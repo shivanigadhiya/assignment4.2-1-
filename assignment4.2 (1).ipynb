{
 "cells": [
  {
   "cell_type": "markdown",
   "id": "59b3aeb9-24c0-4b64-adae-bf93fdfa0e30",
   "metadata": {},
   "source": [
    "Q1. What is Abstraction in OOps? Explain with an example."
   ]
  },
  {
   "cell_type": "markdown",
   "id": "c5f2a560-9939-4a31-8da4-e9477ae2cdc1",
   "metadata": {},
   "source": [
    "It is defined as a process of handling complexity by hiding innecessary information from the users.It is like skeleton.If we add some data we can use this skeleton.We use in abstraction import abc.\n",
    "Example:"
   ]
  },
  {
   "cell_type": "code",
   "execution_count": 7,
   "id": "4e3df897-e461-40f5-8443-2471c5a6466a",
   "metadata": {},
   "outputs": [
    {
     "data": {
      "text/plain": [
       "'this is meth for student details'"
      ]
     },
     "execution_count": 7,
     "metadata": {},
     "output_type": "execute_result"
    }
   ],
   "source": [
    "import abc\n",
    "class pwskills:\n",
    "    @abc.abstractmethod\n",
    "    def student_details(self):\n",
    "        pass\n",
    "    @abc.abstractmethod\n",
    "    def student_assignment(self):\n",
    "        pass\n",
    "    @abc.abstractmethod\n",
    "    def student_marks(self):\n",
    "        pass\n",
    "class student_details(pwskills):\n",
    "    def student_details(self):\n",
    "        return \"this is meth for student details\"\n",
    "    def student_assignment(self):\n",
    "        return \"this is meth for student assignment\"\n",
    "obj_student_details = student_details()\n",
    "obj_student_details.student_details()"
   ]
  },
  {
   "cell_type": "markdown",
   "id": "165df48e-6a03-46a7-9f6f-ed6293c3db1f",
   "metadata": {},
   "source": [
    "Q2. Differentiate between Abstraction and Encapsulation. Explain with an example."
   ]
  },
  {
   "cell_type": "code",
   "execution_count": 7,
   "id": "1a2b7dfb-a3fc-4e1f-b41c-8c1c873c2887",
   "metadata": {},
   "outputs": [
    {
     "data": {
      "text/plain": [
       "1900"
      ]
     },
     "execution_count": 7,
     "metadata": {},
     "output_type": "execute_result"
    }
   ],
   "source": [
    "class bank_account:\n",
    "    def __init__(self,balance):\n",
    "        self.__balance = balance\n",
    "    def deposit(self,amount):\n",
    "        self.__balance=self.__balance+amount\n",
    "    def withdraw(self,amount):\n",
    "        if self.__balance >=amount:\n",
    "            self.__balance=self.__balance-amount\n",
    "            return True\n",
    "        else:\n",
    "            return False\n",
    "    def get_balance(self):\n",
    "        return self.__balance\n",
    "shivani = bank_account(1000)\n",
    "shivani.deposit(900)\n",
    "shivani.get_balance()"
   ]
  },
  {
   "cell_type": "code",
   "execution_count": 8,
   "id": "98d8449b-855c-46cd-9018-45fa6c66d2aa",
   "metadata": {},
   "outputs": [
    {
     "data": {
      "text/plain": [
       "'this is meth for student details'"
      ]
     },
     "execution_count": 8,
     "metadata": {},
     "output_type": "execute_result"
    }
   ],
   "source": [
    "import abc\n",
    "class pwskills:\n",
    "    @abc.abstractmethod\n",
    "    def student_details(self):\n",
    "        pass\n",
    "    @abc.abstractmethod\n",
    "    def student_assignment(self):\n",
    "        pass\n",
    "    @abc.abstractmethod\n",
    "    def student_marks(self):\n",
    "        pass\n",
    "class student_details(pwskills):\n",
    "    def student_details(self):\n",
    "        return \"this is meth for student details\"\n",
    "    def student_assignment(self):\n",
    "        return \"this is meth for student assignment\"\n",
    "obj_student_details = student_details()\n",
    "obj_student_details.student_details()"
   ]
  },
  {
   "cell_type": "markdown",
   "id": "90b9560b-b3bd-437e-997a-181590a44bbc",
   "metadata": {},
   "source": [
    "Q3. What is abc module in python? Why is it used?"
   ]
  },
  {
   "cell_type": "markdown",
   "id": "be53d819-4eb4-4eb8-99ec-d40c0d22ca1d",
   "metadata": {},
   "source": [
    "The 'abc' module in Python library provides the infrastructure for defining custom abstract base classes. 'abc' works by marking methods of the base class as abstract. This is done by @absttractmethod decorator"
   ]
  },
  {
   "cell_type": "markdown",
   "id": "1f8c569b-706e-4a12-af39-6e2aa436150a",
   "metadata": {},
   "source": [
    "Q4. How can we achieve data abstraction?"
   ]
  },
  {
   "cell_type": "markdown",
   "id": "c86e3f8b-e04a-437a-a929-0ad600944851",
   "metadata": {},
   "source": [
    "Data abstraction is a method where essential elements are displayed to the user and trivial elements are kept\n",
    "hidden.\n",
    "abstraction is achieved by using the abstract keyword for classes and interfaces.\n",
    "In abstract classes, we can have abstract methods as well as concrete methods.\n",
    "\n"
   ]
  },
  {
   "cell_type": "markdown",
   "id": "aa645c47-a012-4c81-bbf2-82de113102b3",
   "metadata": {},
   "source": [
    "Q5. Can we create an instance of an abstract class? Explain your answer."
   ]
  },
  {
   "cell_type": "markdown",
   "id": "53d700b6-9511-4a80-b46f-6d62e023de5d",
   "metadata": {},
   "source": [
    "Abstract classes are not complete, as they may have some methods that are not defined. So we cannot create an instance or object of an abstract class in Python."
   ]
  },
  {
   "cell_type": "code",
   "execution_count": 12,
   "id": "c92fdb4c-b0af-488a-a029-74a283819242",
   "metadata": {},
   "outputs": [],
   "source": [
    "import abc\n",
    "class pwskills:\n",
    "    @abc.abstractmethod\n",
    "    def student_details(self):\n",
    "        pass\n",
    "    @abc.abstractmethod\n",
    "    def student_assignment(self):\n",
    "        pass\n",
    "    @abc.abstractmethod\n",
    "    def student_marks(self):\n",
    "        pass\n",
    "shivani=pwskills()\n",
    "shivani.student_details() \n",
    "    "
   ]
  },
  {
   "cell_type": "markdown",
   "id": "ee16c214-710d-426d-808b-4a45caf727ae",
   "metadata": {},
   "source": [
    "it has no output"
   ]
  },
  {
   "cell_type": "code",
   "execution_count": 13,
   "id": "d9f19866-3494-4e4f-98cf-1940a15b0079",
   "metadata": {},
   "outputs": [
    {
     "data": {
      "text/plain": [
       "'this is meth for student details'"
      ]
     },
     "execution_count": 13,
     "metadata": {},
     "output_type": "execute_result"
    }
   ],
   "source": [
    "import abc\n",
    "class pwskills:\n",
    "    @abc.abstractmethod\n",
    "    def student_details(self):\n",
    "        pass\n",
    "    @abc.abstractmethod\n",
    "    def student_assignment(self):\n",
    "        pass\n",
    "    @abc.abstractmethod\n",
    "    def student_marks(self):\n",
    "        pass\n",
    "class student_details(pwskills):\n",
    "    def student_details(self):\n",
    "        return \"this is meth for student details\"\n",
    "    def student_assignment(self):\n",
    "        return \"this is meth for student assignment\"\n",
    "obj_student_details = student_details()\n",
    "obj_student_details.student_details()"
   ]
  },
  {
   "cell_type": "code",
   "execution_count": null,
   "id": "6c820376-7420-4b46-9666-b720a1d4a260",
   "metadata": {},
   "outputs": [],
   "source": []
  }
 ],
 "metadata": {
  "kernelspec": {
   "display_name": "Python 3 (ipykernel)",
   "language": "python",
   "name": "python3"
  },
  "language_info": {
   "codemirror_mode": {
    "name": "ipython",
    "version": 3
   },
   "file_extension": ".py",
   "mimetype": "text/x-python",
   "name": "python",
   "nbconvert_exporter": "python",
   "pygments_lexer": "ipython3",
   "version": "3.10.8"
  }
 },
 "nbformat": 4,
 "nbformat_minor": 5
}
